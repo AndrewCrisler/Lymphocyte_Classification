{
 "cells": [
  {
   "cell_type": "code",
   "execution_count": null,
   "metadata": {},
   "outputs": [],
   "source": [
    "%cd /data/ai_club/team_C\n",
    "# pip intall spectral --user \n",
    "from spectral import *\n",
    "from PIL import Image, ImageFile\n",
    "import numpy as np\n",
    "from sklearn.preprocessing import StandardScaler\n",
    "from sklearn.decomposition import IncrementalPCA\n",
    "Image.MAX_IMAGE_PIXELS = None\n",
    "ImageFile.LOAD_TRUNCATED_IMAGES = True\n",
    "import cv2"
   ]
  },
  {
   "cell_type": "code",
   "execution_count": null,
   "metadata": {},
   "outputs": [],
   "source": [
    "# Loading spectral image\n",
    "spectral_img = open_image('ov-63-hd-16ca.hdr')\n",
    "\n",
    "# Instantiating incremental PCA\n",
    "pca = IncrementalPCA(n_components=3)"
   ]
  },
  {
   "cell_type": "code",
   "execution_count": null,
   "metadata": {},
   "outputs": [],
   "source": [
    "# Standardizing and chunking the spectral image by row and fitting sklearn's partial PCA\n",
    "spectral_shape = spectral_img.shape\n",
    "grid = []\n",
    "for y in range(spectral_shape[0]):\n",
    "    if y % 500 == 0:\n",
    "        print(f\"PCA fit: {y}\")\n",
    "    row = spectral_img[y, :, :][0]\n",
    "    pca.partial_fit(row)\n",
    "    grid.append(row)"
   ]
  },
  {
   "cell_type": "code",
   "execution_count": null,
   "metadata": {},
   "outputs": [],
   "source": [
    "# Reducing the dimensionality of the hyperspectral image to 3 principal components\n",
    "results = None\n",
    "for i, row in enumerate(grid):\n",
    "    if i % 200 == 0:\n",
    "        print(f\"PCA transform: {y}\")\n",
    "    transformed_row = pca.transform(row)\n",
    "    if results is None:\n",
    "        results = transformed_row\n",
    "    else:\n",
    "        results = np.vstack((results, transformed_row))"
   ]
  },
  {
   "cell_type": "code",
   "execution_count": null,
   "metadata": {},
   "outputs": [],
   "source": [
    "# Reshaping results array\n",
    "results_t = np.reshape(results, (spectral_shape[0], spectral_shape[1], 3))"
   ]
  },
  {
   "cell_type": "code",
   "execution_count": null,
   "metadata": {},
   "outputs": [],
   "source": [
    "# Normalizing and scaling results between 0 and 255\n",
    "PC_2d_Norm = np.zeros((spectral_shape[0],spectral_shape[1],3))\n",
    "for i in range(3):\n",
    "    PC_2d_Norm[:,:,i] = cv2.normalize(results_t[:,:,i],np.zeros((spectral_shape[0],spectral_shape[1],3)),0,255,cv2.NORM_MINMAX)"
   ]
  },
  {
   "cell_type": "code",
   "execution_count": null,
   "metadata": {},
   "outputs": [],
   "source": [
    "# Using Pillow to create a new image with RGB mapping to the 3 principal components \n",
    "image = Image.new('RGB', (spectral_shape[1], spectral_shape[0]))\n",
    "for y in range(spectral_shape[0]):\n",
    "    for x in range(spectral_shape[1]):\n",
    "        r, g, b = PC_2d_Norm[y][x]\n",
    "        image.putpixel( (x, y), (np.uint8(r), np.uint8(g), np.uint8(b), 255))\n",
    "\n",
    "# Saving the image\n",
    "image.save(\"Full_PCA.png\", \"PNG\")"
   ]
  }
 ],
 "metadata": {
  "kernelspec": {
   "display_name": "Python 3",
   "language": "python",
   "name": "python3"
  },
  "language_info": {
   "codemirror_mode": {
    "name": "ipython",
    "version": 3
   },
   "file_extension": ".py",
   "mimetype": "text/x-python",
   "name": "python",
   "nbconvert_exporter": "python",
   "pygments_lexer": "ipython3",
   "version": "3.8.8"
  }
 },
 "nbformat": 4,
 "nbformat_minor": 2
}
