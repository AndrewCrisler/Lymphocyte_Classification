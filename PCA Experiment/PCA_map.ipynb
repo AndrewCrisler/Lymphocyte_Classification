{
 "cells": [
  {
   "cell_type": "code",
   "execution_count": 1,
   "metadata": {},
   "outputs": [
    {
     "name": "stdout",
     "output_type": "stream",
     "text": [
      "/data/ai_club/team_C\n"
     ]
    }
   ],
   "source": [
    "%cd /data/ai_club/team_C\n",
    "# pip intall spectral --user \n",
    "from spectral import *\n",
    "from PIL import Image, ImageFile\n",
    "import numpy as np\n",
    "from sklearn.preprocessing import StandardScaler\n",
    "from sklearn.decomposition import IncrementalPCA\n",
    "Image.MAX_IMAGE_PIXELS = None\n",
    "ImageFile.LOAD_TRUNCATED_IMAGES = True\n",
    "import cv2"
   ]
  },
  {
   "cell_type": "code",
   "execution_count": 2,
   "metadata": {},
   "outputs": [],
   "source": [
    "# Loading spectral image\n",
    "spectral_img = open_image('ov-63-hd-16ca.hdr')\n",
    "\n",
    "# Instantiating incremental PCA\n",
    "pca = IncrementalPCA(n_components=3)"
   ]
  },
  {
   "cell_type": "code",
   "execution_count": 3,
   "metadata": {},
   "outputs": [],
   "source": [
    "# Calculating macro chunk dimensions, row wise, with padding\n",
    "spectral_shape = spectral_img.shape\n",
    "macro_chunk_start = int(spectral_shape[0]/2) - 50\n",
    "macro_chunk_end = ((spectral_shape[0]//10) * 6) + 50\n",
    "macro_chunk_size = macro_chunk_end - macro_chunk_start"
   ]
  },
  {
   "cell_type": "code",
   "execution_count": 4,
   "metadata": {},
   "outputs": [
    {
     "name": "stdout",
     "output_type": "stream",
     "text": [
      "PCA fit: 9000\n",
      "PCA fit: 9200\n",
      "PCA fit: 9400\n",
      "PCA fit: 9600\n",
      "PCA fit: 9800\n",
      "PCA fit: 10000\n",
      "PCA fit: 10200\n",
      "PCA fit: 10400\n",
      "PCA fit: 10600\n"
     ]
    }
   ],
   "source": [
    "# Standardizing and chunking the spectral image by row and fitting sklearn's partial PCA\n",
    "grid = []\n",
    "for y in range(macro_chunk_start, macro_chunk_end):\n",
    "    if y % 200 == 0:\n",
    "        print(f\"PCA fit: {y}\")\n",
    "    row = spectral_img[y, :, :][0]\n",
    "    pca.partial_fit(row)\n",
    "    grid.append(row)"
   ]
  },
  {
   "cell_type": "code",
   "execution_count": 5,
   "metadata": {},
   "outputs": [
    {
     "name": "stdout",
     "output_type": "stream",
     "text": [
      "PCA transform: 10795\n",
      "PCA transform: 10795\n",
      "PCA transform: 10795\n",
      "PCA transform: 10795\n",
      "PCA transform: 10795\n",
      "PCA transform: 10795\n",
      "PCA transform: 10795\n",
      "PCA transform: 10795\n",
      "PCA transform: 10795\n",
      "PCA transform: 10795\n"
     ]
    }
   ],
   "source": [
    "# Reducing the dimensionality of the hyperspectral image to 3 principal components\n",
    "results = None\n",
    "for i, row in enumerate(grid):\n",
    "    if i % 200 == 0:\n",
    "        print(f\"PCA transform: {i}\")\n",
    "    transformed_row = pca.transform(row)\n",
    "    if results is None:\n",
    "        results = transformed_row\n",
    "    else:\n",
    "        results = np.vstack((results, transformed_row))"
   ]
  },
  {
   "cell_type": "code",
   "execution_count": 6,
   "metadata": {},
   "outputs": [],
   "source": [
    "# Reshaping results array\n",
    "results_t = np.reshape(results, (macro_chunk_size, spectral_shape[1], 3))"
   ]
  },
  {
   "cell_type": "code",
   "execution_count": 7,
   "metadata": {},
   "outputs": [],
   "source": [
    "PC_2d_Norm = np.zeros((macro_chunk_size, spectral_shape[1], 3))\n",
    "for i in range(3):\n",
    "    PC_2d_Norm[:,:,i] = cv2.normalize(results_t[:,:,i], np.zeros((macro_chunk_size, spectral_shape[1], 3)), 0, 255, cv2.NORM_MINMAX)"
   ]
  },
  {
   "cell_type": "code",
   "execution_count": 8,
   "metadata": {},
   "outputs": [],
   "source": [
    "# Using Pillow to create a new image with RGB mapping to the 3 principal components \n",
    "image = Image.new('RGB', (spectral_shape[1], macro_chunk_size))\n",
    "for y in range(macro_chunk_size):\n",
    "    for x in range(spectral_shape[1]):\n",
    "        r, g, b = PC_2d_Norm[y][x]\n",
    "        image.putpixel((x, y), (np.uint8(r), np.uint8(g), np.uint8(b), 255))\n",
    "\n",
    "# Saving the image\n",
    "image.save(\"Full_PCA.png\", \"PNG\")"
   ]
  }
 ],
 "metadata": {
  "kernelspec": {
   "display_name": "Python 3",
   "language": "python",
   "name": "python3"
  },
  "language_info": {
   "codemirror_mode": {
    "name": "ipython",
    "version": 3
   },
   "file_extension": ".py",
   "mimetype": "text/x-python",
   "name": "python",
   "nbconvert_exporter": "python",
   "pygments_lexer": "ipython3",
   "version": "3.6.9"
  }
 },
 "nbformat": 4,
 "nbformat_minor": 2
}
