{
 "cells": [
  {
   "cell_type": "code",
   "execution_count": 1,
   "metadata": {},
   "outputs": [
    {
     "name": "stdout",
     "output_type": "stream",
     "text": [
      "/data/ai_club/team_C\n"
     ]
    }
   ],
   "source": [
    "cd \"/data/ai_club/team_C/\""
   ]
  },
  {
   "cell_type": "code",
   "execution_count": 2,
   "metadata": {},
   "outputs": [
    {
     "name": "stderr",
     "output_type": "stream",
     "text": [
      "/usr/local/anaconda3/lib/python3.7/site-packages/sklearn/linear_model/least_angle.py:30: DeprecationWarning: `np.float` is a deprecated alias for the builtin `float`. To silence this warning, use `float` by itself. Doing this will not modify any behavior and is safe. If you specifically wanted the numpy scalar type, use `np.float64` here.\n",
      "Deprecated in NumPy 1.20; for more details and guidance: https://numpy.org/devdocs/release/1.20.0-notes.html#deprecations\n",
      "  method='lar', copy_X=True, eps=np.finfo(np.float).eps,\n",
      "/usr/local/anaconda3/lib/python3.7/site-packages/sklearn/linear_model/least_angle.py:167: DeprecationWarning: `np.float` is a deprecated alias for the builtin `float`. To silence this warning, use `float` by itself. Doing this will not modify any behavior and is safe. If you specifically wanted the numpy scalar type, use `np.float64` here.\n",
      "Deprecated in NumPy 1.20; for more details and guidance: https://numpy.org/devdocs/release/1.20.0-notes.html#deprecations\n",
      "  method='lar', copy_X=True, eps=np.finfo(np.float).eps,\n",
      "/usr/local/anaconda3/lib/python3.7/site-packages/sklearn/linear_model/least_angle.py:284: DeprecationWarning: `np.float` is a deprecated alias for the builtin `float`. To silence this warning, use `float` by itself. Doing this will not modify any behavior and is safe. If you specifically wanted the numpy scalar type, use `np.float64` here.\n",
      "Deprecated in NumPy 1.20; for more details and guidance: https://numpy.org/devdocs/release/1.20.0-notes.html#deprecations\n",
      "  eps=np.finfo(np.float).eps, copy_Gram=True, verbose=0,\n",
      "/usr/local/anaconda3/lib/python3.7/site-packages/sklearn/linear_model/least_angle.py:862: DeprecationWarning: `np.float` is a deprecated alias for the builtin `float`. To silence this warning, use `float` by itself. Doing this will not modify any behavior and is safe. If you specifically wanted the numpy scalar type, use `np.float64` here.\n",
      "Deprecated in NumPy 1.20; for more details and guidance: https://numpy.org/devdocs/release/1.20.0-notes.html#deprecations\n",
      "  eps=np.finfo(np.float).eps, copy_X=True, fit_path=True,\n",
      "/usr/local/anaconda3/lib/python3.7/site-packages/sklearn/linear_model/least_angle.py:1101: DeprecationWarning: `np.float` is a deprecated alias for the builtin `float`. To silence this warning, use `float` by itself. Doing this will not modify any behavior and is safe. If you specifically wanted the numpy scalar type, use `np.float64` here.\n",
      "Deprecated in NumPy 1.20; for more details and guidance: https://numpy.org/devdocs/release/1.20.0-notes.html#deprecations\n",
      "  eps=np.finfo(np.float).eps, copy_X=True, fit_path=True,\n",
      "/usr/local/anaconda3/lib/python3.7/site-packages/sklearn/linear_model/least_angle.py:1127: DeprecationWarning: `np.float` is a deprecated alias for the builtin `float`. To silence this warning, use `float` by itself. Doing this will not modify any behavior and is safe. If you specifically wanted the numpy scalar type, use `np.float64` here.\n",
      "Deprecated in NumPy 1.20; for more details and guidance: https://numpy.org/devdocs/release/1.20.0-notes.html#deprecations\n",
      "  eps=np.finfo(np.float).eps, positive=False):\n",
      "/usr/local/anaconda3/lib/python3.7/site-packages/sklearn/linear_model/least_angle.py:1362: DeprecationWarning: `np.float` is a deprecated alias for the builtin `float`. To silence this warning, use `float` by itself. Doing this will not modify any behavior and is safe. If you specifically wanted the numpy scalar type, use `np.float64` here.\n",
      "Deprecated in NumPy 1.20; for more details and guidance: https://numpy.org/devdocs/release/1.20.0-notes.html#deprecations\n",
      "  max_n_alphas=1000, n_jobs=None, eps=np.finfo(np.float).eps,\n",
      "/usr/local/anaconda3/lib/python3.7/site-packages/sklearn/linear_model/least_angle.py:1602: DeprecationWarning: `np.float` is a deprecated alias for the builtin `float`. To silence this warning, use `float` by itself. Doing this will not modify any behavior and is safe. If you specifically wanted the numpy scalar type, use `np.float64` here.\n",
      "Deprecated in NumPy 1.20; for more details and guidance: https://numpy.org/devdocs/release/1.20.0-notes.html#deprecations\n",
      "  max_n_alphas=1000, n_jobs=None, eps=np.finfo(np.float).eps,\n",
      "/usr/local/anaconda3/lib/python3.7/site-packages/sklearn/linear_model/least_angle.py:1738: DeprecationWarning: `np.float` is a deprecated alias for the builtin `float`. To silence this warning, use `float` by itself. Doing this will not modify any behavior and is safe. If you specifically wanted the numpy scalar type, use `np.float64` here.\n",
      "Deprecated in NumPy 1.20; for more details and guidance: https://numpy.org/devdocs/release/1.20.0-notes.html#deprecations\n",
      "  eps=np.finfo(np.float).eps, copy_X=True, positive=False):\n",
      "/usr/local/anaconda3/lib/python3.7/site-packages/tensorflow/python/framework/dtypes.py:516: FutureWarning: Passing (type, 1) or '1type' as a synonym of type is deprecated; in a future version of numpy, it will be understood as (type, (1,)) / '(1,)type'.\n",
      "  _np_qint8 = np.dtype([(\"qint8\", np.int8, 1)])\n",
      "/usr/local/anaconda3/lib/python3.7/site-packages/tensorflow/python/framework/dtypes.py:517: FutureWarning: Passing (type, 1) or '1type' as a synonym of type is deprecated; in a future version of numpy, it will be understood as (type, (1,)) / '(1,)type'.\n",
      "  _np_quint8 = np.dtype([(\"quint8\", np.uint8, 1)])\n",
      "/usr/local/anaconda3/lib/python3.7/site-packages/tensorflow/python/framework/dtypes.py:518: FutureWarning: Passing (type, 1) or '1type' as a synonym of type is deprecated; in a future version of numpy, it will be understood as (type, (1,)) / '(1,)type'.\n",
      "  _np_qint16 = np.dtype([(\"qint16\", np.int16, 1)])\n",
      "/usr/local/anaconda3/lib/python3.7/site-packages/tensorflow/python/framework/dtypes.py:519: FutureWarning: Passing (type, 1) or '1type' as a synonym of type is deprecated; in a future version of numpy, it will be understood as (type, (1,)) / '(1,)type'.\n",
      "  _np_quint16 = np.dtype([(\"quint16\", np.uint16, 1)])\n",
      "/usr/local/anaconda3/lib/python3.7/site-packages/tensorflow/python/framework/dtypes.py:520: FutureWarning: Passing (type, 1) or '1type' as a synonym of type is deprecated; in a future version of numpy, it will be understood as (type, (1,)) / '(1,)type'.\n",
      "  _np_qint32 = np.dtype([(\"qint32\", np.int32, 1)])\n",
      "/usr/local/anaconda3/lib/python3.7/site-packages/tensorflow/python/framework/dtypes.py:525: FutureWarning: Passing (type, 1) or '1type' as a synonym of type is deprecated; in a future version of numpy, it will be understood as (type, (1,)) / '(1,)type'.\n",
      "  np_resource = np.dtype([(\"resource\", np.ubyte, 1)])\n",
      "/usr/local/anaconda3/lib/python3.7/site-packages/tensorboard/compat/tensorflow_stub/dtypes.py:541: FutureWarning: Passing (type, 1) or '1type' as a synonym of type is deprecated; in a future version of numpy, it will be understood as (type, (1,)) / '(1,)type'.\n",
      "  _np_qint8 = np.dtype([(\"qint8\", np.int8, 1)])\n",
      "/usr/local/anaconda3/lib/python3.7/site-packages/tensorboard/compat/tensorflow_stub/dtypes.py:542: FutureWarning: Passing (type, 1) or '1type' as a synonym of type is deprecated; in a future version of numpy, it will be understood as (type, (1,)) / '(1,)type'.\n",
      "  _np_quint8 = np.dtype([(\"quint8\", np.uint8, 1)])\n",
      "/usr/local/anaconda3/lib/python3.7/site-packages/tensorboard/compat/tensorflow_stub/dtypes.py:543: FutureWarning: Passing (type, 1) or '1type' as a synonym of type is deprecated; in a future version of numpy, it will be understood as (type, (1,)) / '(1,)type'.\n",
      "  _np_qint16 = np.dtype([(\"qint16\", np.int16, 1)])\n",
      "/usr/local/anaconda3/lib/python3.7/site-packages/tensorboard/compat/tensorflow_stub/dtypes.py:544: FutureWarning: Passing (type, 1) or '1type' as a synonym of type is deprecated; in a future version of numpy, it will be understood as (type, (1,)) / '(1,)type'.\n",
      "  _np_quint16 = np.dtype([(\"quint16\", np.uint16, 1)])\n",
      "/usr/local/anaconda3/lib/python3.7/site-packages/tensorboard/compat/tensorflow_stub/dtypes.py:545: FutureWarning: Passing (type, 1) or '1type' as a synonym of type is deprecated; in a future version of numpy, it will be understood as (type, (1,)) / '(1,)type'.\n",
      "  _np_qint32 = np.dtype([(\"qint32\", np.int32, 1)])\n",
      "/usr/local/anaconda3/lib/python3.7/site-packages/tensorboard/compat/tensorflow_stub/dtypes.py:550: FutureWarning: Passing (type, 1) or '1type' as a synonym of type is deprecated; in a future version of numpy, it will be understood as (type, (1,)) / '(1,)type'.\n",
      "  np_resource = np.dtype([(\"resource\", np.ubyte, 1)])\n"
     ]
    }
   ],
   "source": [
    "from sklearn import svm\n",
    "import numpy as np\n",
    "from sklearn.model_selection import train_test_split\n",
    "import joblib\n",
    "from spectral import *\n",
    "from PIL import Image, ImageFile\n",
    "import pandas as pd\n",
    "import tensorflow as tf\n",
    "from tensorflow.keras.layers import Input, Lambda, Dense, Flatten,Conv2D \n",
    "from tensorflow.keras.models import Model\n",
    "from tensorflow.keras.applications.vgg19 import VGG19\n",
    "from tensorflow.keras.applications.resnet50 import preprocess_input\n",
    "from tensorflow.keras.preprocessing import image\n",
    "from tensorflow.keras.preprocessing.image import ImageDataGenerator,load_img\n",
    "from tensorflow.keras.models import Sequential\n",
    "from tensorflow.keras.layers import MaxPooling2D\n",
    "from tensorflow.keras import optimizers\n",
    "from tensorflow.keras.utils import plot_model\n",
    "import matplotlib.pyplot as plt\n",
    "import matplotlib.colors as mcolors"
   ]
  },
  {
   "cell_type": "code",
   "execution_count": 3,
   "metadata": {},
   "outputs": [
    {
     "name": "stdout",
     "output_type": "stream",
     "text": [
      "Data Loaded\n",
      "WARNING:tensorflow:From /usr/local/anaconda3/lib/python3.7/site-packages/tensorflow/python/ops/init_ops.py:1251: calling VarianceScaling.__init__ (from tensorflow.python.ops.init_ops) with dtype is deprecated and will be removed in a future version.\n",
      "Instructions for updating:\n",
      "Call initializer instance with the dtype argument instead of passing it to the constructor\n",
      "Model: \"sequential\"\n",
      "_________________________________________________________________\n",
      "Layer (type)                 Output Shape              Param #   \n",
      "=================================================================\n",
      "conv2d (Conv2D)              (None, 17, 17, 128)       454016    \n",
      "_________________________________________________________________\n",
      "conv2d_1 (Conv2D)            (None, 17, 17, 16)        18448     \n",
      "_________________________________________________________________\n",
      "flatten (Flatten)            (None, 4624)              0         \n",
      "_________________________________________________________________\n",
      "dense (Dense)                (None, 500)               2312500   \n",
      "_________________________________________________________________\n",
      "dense_1 (Dense)              (None, 1)                 501       \n",
      "=================================================================\n",
      "Total params: 2,785,465\n",
      "Trainable params: 2,785,465\n",
      "Non-trainable params: 0\n",
      "_________________________________________________________________\n",
      "None\n",
      "WARNING:tensorflow:From /usr/local/anaconda3/lib/python3.7/site-packages/tensorflow/python/ops/nn_impl.py:180: add_dispatch_support.<locals>.wrapper (from tensorflow.python.ops.array_ops) is deprecated and will be removed in a future version.\n",
      "Instructions for updating:\n",
      "Use tf.where in 2.0, which has the same broadcast rule as np.where\n",
      "Train on 19011 samples, validate on 22601 samples\n",
      "Epoch 1/3\n",
      "19011/19011 [==============================] - 36s 2ms/sample - loss: 0.2947 - acc: 0.8677 - val_loss: 0.4239 - val_acc: 0.8638\n",
      "Epoch 2/3\n",
      "19011/19011 [==============================] - 33s 2ms/sample - loss: 0.1398 - acc: 0.9438 - val_loss: 0.4919 - val_acc: 0.8993\n",
      "Epoch 3/3\n",
      "19011/19011 [==============================] - 33s 2ms/sample - loss: 0.0826 - acc: 0.9642 - val_loss: 0.6446 - val_acc: 0.8643\n"
     ]
    }
   ],
   "source": [
    "#Model Setup\n",
    "#Data Files\n",
    "data_train = np.load('CNN/spectral_lymph_tile_array_3_9_22_left_update_1.npy')\n",
    "non_data_train = np.load('CNN/spectral_non_tile_array_3_9_22_left_update_1.npy')\n",
    "data_test = np.load('CNN/spectral_lymph_tile_array_3_9_22_right_update_1.npy')\n",
    "non_data_test = np.load('CNN/spectral_non_tile_array_3_9_22_right_update_1.npy')\n",
    "\n",
    "data_stack_train = np.vstack((data_train, non_data_train)) # One array of all training data\n",
    "data_stack_test = np.vstack((data_test, non_data_test))   # One array of all test data\n",
    "labels_train = np.append(np.ones(data_train.shape[0]), np.zeros(non_data_train.shape[0])) \n",
    "labels_test = np.append(np.ones(data_test.shape[0]), np.zeros(non_data_test.shape[0]))\n",
    "\n",
    "X_train = data_stack_train[:, :]\n",
    "y_train = labels_train[:]\n",
    "X_test =  data_stack_test[:, :]\n",
    "y_test = labels_test[:]\n",
    "print(\"Data Loaded\")\n",
    "#Model\n",
    "model=Sequential()\n",
    "model.add(Conv2D(filters=128,kernel_size=3,padding=\"same\",activation=\"relu\",input_shape=(17,17,394)))\n",
    "model.add(Conv2D(filters=16,kernel_size=3,padding=\"same\",activation=\"relu\"))\n",
    "model.add(Flatten())\n",
    "model.add(Dense(500,activation=\"relu\"))\n",
    "model.add(Dense(1,activation=\"sigmoid\"))  \n",
    "print(model.summary())\n",
    "model.compile(loss='binary_crossentropy', optimizer='adam', metrics=['accuracy']) #compile Model\n",
    "history=model.fit(X_train,y_train,epochs=3, validation_data=(X_test,y_test)) #train model"
   ]
  },
  {
   "cell_type": "code",
   "execution_count": 4,
   "metadata": {},
   "outputs": [],
   "source": [
    "#Loading Spectral Array and creating cropped spectral array \n",
    "Image.MAX_IMAGE_PIXELS = None\n",
    "ImageFile.LOAD_TRUNCATED_IMAGES = True\n",
    "spectral_img = open_image('ov-63-hd-16ca.hdr')"
   ]
  },
  {
   "cell_type": "code",
   "execution_count": 24,
   "metadata": {},
   "outputs": [],
   "source": [
    "def predict(size, x_start, y_start,x_num,y_num):\n",
    "    for x_times in range(x_num):\n",
    "        for y_times in range(y_num):\n",
    "            spectral_shape=spectral_img.shape\n",
    "            spectral_2d_shape=spectral_shape[:2]\n",
    "            #print(spectral_2d_shape)\n",
    "            mask = np.zeros((spectral_2d_shape))\n",
    "            mask[(x_start+(size*(x_times))):x_start+(size*(x_times+1)),y_start+(size*(y_times)):y_start+(size*(y_times+1))]=1\n",
    "            #print(\"Mask Shape\", mask.shape)\n",
    "            fig = plt.figure()\n",
    "            ax = fig.add_subplot(111)\n",
    "            ax.imshow(mask, aspect='equal', cmap=plt.cm.gray, interpolation='nearest') \n",
    "            #Create 17x17 tiles\n",
    "            # Tile radius (1 = 3x3, 2 = 5x5, 3 = 7x7, etc.)\n",
    "            tr = 8\n",
    "            # Finding (y,x) tuple for where the mask is True\n",
    "            y, x = np.where(mask == True)\n",
    "            \n",
    "            # Declaring pixel array\n",
    "            tw = 1 + (tr * 2)\n",
    "            test_spectral_result = np.empty((len(y), tw, tw, 394))\n",
    "            \n",
    "            # # Append the pixels in the spectral image to the pixel array for every (y,x) and (ny,nx) tuple\n",
    "            print(\"Creating spectral array...\")\n",
    "            for index, point in enumerate(zip(y, x)):\n",
    "                px, py = point[1], point[0]\n",
    "                #print((index/float(len(y)))*100) # If you want to see progress for large tables\n",
    "                test_spectral_result[index] = spectral_img[py-tr:py+tr+1, px-tr:px+tr+1]\n",
    "            #print(\"Done\")\n",
    "            #print(test_spectral_result.shape)\n",
    "            predictions=model.predict(test_spectral_result)\n",
    "            #print(predictions.shape)\n",
    "            predictions=predictions.reshape(size,size)\n",
    "            #print(predictions.shape)\n",
    "            ##fig = plt.figure()\n",
    "            #ax = fig.add_subplot(111)\n",
    "            #ax.imshow(predictions, aspect='auto', cmap=plt.cm.gray, interpolation='nearest')\n",
    "            plt.imsave('test.png', predictions , cmap=plt.cm.gray)\n",
    "            #Make a mask file out of this file for easy comparison to hyperspectral file\n",
    "            output_mask = np.zeros((17912, 20292))\n",
    "            output_mask[x_start:(x_start+size),y_start:(y_start+size)]=predictions\n",
    "            ##print(output_mask.shape)\n",
    "            fig = plt.figure(figsize = (10,10))\n",
    "            #ax = fig.add_subplot(111)\n",
    "            #image_file=ax.imshow(output_mask, aspect='auto', cmap=plt.cm.gray, interpolation='nearest')\n",
    "            # Save the image:\n",
    "            image_file = Image.fromarray(output_mask, mode=\"1\")\n",
    "            filename=\"predictions_mask_x_\" + str(((x_start+(size*(x_times))))) +\"_y_\" +str(((y_start+(size*(y_times))))) +\"_size_\" +str(size) \n",
    "            print(filename)\n",
    "            #Set colormap https://kbkb-wx-python.blogspot.com/2015/12/python-transparent-colormap.html\n",
    "            colors = [(1,1,1,c) for c in np.linspace(0,1,100)]\n",
    "            cmapwhite = mcolors.LinearSegmentedColormap.from_list('mycmap', colors, N=5)\n",
    "            plt.imsave(f\"tiled_output/{filename}_white.png\", output_mask , cmap=cmapwhite)#cmap=plt.cm.gray)"
   ]
  },
  {
   "cell_type": "code",
   "execution_count": null,
   "metadata": {},
   "outputs": [
    {
     "name": "stdout",
     "output_type": "stream",
     "text": [
      "Creating spectral array...\n"
     ]
    }
   ],
   "source": [
    "predict(500,13000,14000,4,4)"
   ]
  },
  {
   "cell_type": "code",
   "execution_count": null,
   "metadata": {},
   "outputs": [],
   "source": [
    "##Loading Spectral Array and creating cropped spectral array \n",
    "#Image.MAX_IMAGE_PIXELS = None\n",
    "#ImageFile.LOAD_TRUNCATED_IMAGES = True\n",
    "#spectral_img = open_image('ov-63-hd-16ca.hdr')\n",
    "#print(spectral_img.shape)\n",
    "#np_spectral_img=np.asarray(spectral_img)\n",
    "#size=100 #Squaresize\n",
    "#\n",
    "#masks=np.ones((size,size,int(spectral_img.shape[0]/size),int(spectral_img.shape[1]/size)))\n",
    "#print(spectral_img_cropped.shape) #(100, 100, 179, 202)\n",
    "##for crop_x in range(int(spectral_img.shape[0]/size)):\n",
    "##    for crop_y in range(int(spectral_img.shape[1]/size)):\n",
    "##        masks[crop_x,crop_y]=np.ones(((crop_x*size):(crop_x+1)*(size),(crop_y*size):(crop_y+1)*(size)))\n",
    "##        print(crop_x,crop_y)\n",
    "#"
   ]
  },
  {
   "cell_type": "code",
   "execution_count": null,
   "metadata": {},
   "outputs": [],
   "source": [
    "#ans=17912*20292\n",
    "#ans2=100*100*179*202\n",
    "#print(ans)\n",
    "#print(ans2)\n",
    "#"
   ]
  },
  {
   "cell_type": "code",
   "execution_count": null,
   "metadata": {},
   "outputs": [],
   "source": [
    "#spectral_img_cropped=np.zeros((int(spectral_img.shape[0]/size),int(spectral_img.shape[1]/size)))\n",
    "#spectral_img_cropped.shape"
   ]
  },
  {
   "cell_type": "code",
   "execution_count": null,
   "metadata": {},
   "outputs": [],
   "source": []
  },
  {
   "cell_type": "code",
   "execution_count": null,
   "metadata": {},
   "outputs": [],
   "source": []
  },
  {
   "cell_type": "code",
   "execution_count": null,
   "metadata": {},
   "outputs": [],
   "source": []
  },
  {
   "cell_type": "code",
   "execution_count": null,
   "metadata": {},
   "outputs": [],
   "source": []
  },
  {
   "cell_type": "code",
   "execution_count": null,
   "metadata": {},
   "outputs": [],
   "source": []
  }
 ],
 "metadata": {
  "kernelspec": {
   "display_name": "Python 3",
   "language": "python",
   "name": "python3"
  },
  "language_info": {
   "codemirror_mode": {
    "name": "ipython",
    "version": 3
   },
   "file_extension": ".py",
   "mimetype": "text/x-python",
   "name": "python",
   "nbconvert_exporter": "python",
   "pygments_lexer": "ipython3",
   "version": "3.7.3"
  }
 },
 "nbformat": 4,
 "nbformat_minor": 4
}
